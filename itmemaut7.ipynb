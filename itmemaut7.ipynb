{
  "nbformat": 4,
  "nbformat_minor": 0,
  "metadata": {
    "colab": {
      "name": "itmemaut7.ipynb",
      "provenance": [],
      "authorship_tag": "ABX9TyNdYxaAejCTT621pnurfpZ5",
      "include_colab_link": true
    },
    "kernelspec": {
      "name": "python3",
      "display_name": "Python 3"
    },
    "language_info": {
      "name": "python"
    }
  },
  "cells": [
    {
      "cell_type": "markdown",
      "metadata": {
        "id": "view-in-github",
        "colab_type": "text"
      },
      "source": [
        "<a href=\"https://colab.research.google.com/github/MJavadZallaghi/itmemaut/blob/main/itmemaut7.ipynb\" target=\"_parent\"><img src=\"https://colab.research.google.com/assets/colab-badge.svg\" alt=\"Open In Colab\"/></a>"
      ]
    },
    {
      "cell_type": "code",
      "metadata": {
        "id": "B-Outyfawi_l"
      },
      "source": [
        "def product(a,b):\n",
        "  return a*b"
      ],
      "execution_count": 1,
      "outputs": []
    },
    {
      "cell_type": "code",
      "metadata": {
        "colab": {
          "base_uri": "https://localhost:8080/"
        },
        "id": "wHEyxQsxxRNq",
        "outputId": "02f52bac-1c24-4104-9fba-a58498d03d59"
      },
      "source": [
        "product(5,6)"
      ],
      "execution_count": 2,
      "outputs": [
        {
          "output_type": "execute_result",
          "data": {
            "text/plain": [
              "30"
            ]
          },
          "metadata": {},
          "execution_count": 2
        }
      ]
    },
    {
      "cell_type": "code",
      "metadata": {
        "colab": {
          "base_uri": "https://localhost:8080/",
          "height": 165
        },
        "id": "S4eetgE2xWNx",
        "outputId": "9acb3406-6c05-4e0b-fde8-03ca4d7b691f"
      },
      "source": [
        "product(5,6,7)"
      ],
      "execution_count": 3,
      "outputs": [
        {
          "output_type": "error",
          "ename": "TypeError",
          "evalue": "ignored",
          "traceback": [
            "\u001b[0;31m---------------------------------------------------------------------------\u001b[0m",
            "\u001b[0;31mTypeError\u001b[0m                                 Traceback (most recent call last)",
            "\u001b[0;32m<ipython-input-3-9b52bb5a965e>\u001b[0m in \u001b[0;36m<module>\u001b[0;34m()\u001b[0m\n\u001b[0;32m----> 1\u001b[0;31m \u001b[0mproduct\u001b[0m\u001b[0;34m(\u001b[0m\u001b[0;36m5\u001b[0m\u001b[0;34m,\u001b[0m\u001b[0;36m6\u001b[0m\u001b[0;34m,\u001b[0m\u001b[0;36m7\u001b[0m\u001b[0;34m)\u001b[0m\u001b[0;34m\u001b[0m\u001b[0;34m\u001b[0m\u001b[0m\n\u001b[0m",
            "\u001b[0;31mTypeError\u001b[0m: product() takes 2 positional arguments but 3 were given"
          ]
        }
      ]
    },
    {
      "cell_type": "code",
      "metadata": {
        "id": "Cb0hC8tyxa3e"
      },
      "source": [
        "def product(*args):\n",
        "  print('args is: ', args)\n",
        "  p = 1\n",
        "  for num in args:\n",
        "    p *= num\n",
        "  return p"
      ],
      "execution_count": 11,
      "outputs": []
    },
    {
      "cell_type": "code",
      "metadata": {
        "colab": {
          "base_uri": "https://localhost:8080/"
        },
        "id": "veBaAhqHxyBb",
        "outputId": "b603d55f-e6ad-4e40-fe1e-56c4a7654316"
      },
      "source": [
        "product(5,6)"
      ],
      "execution_count": 9,
      "outputs": [
        {
          "output_type": "execute_result",
          "data": {
            "text/plain": [
              "30"
            ]
          },
          "metadata": {},
          "execution_count": 9
        }
      ]
    },
    {
      "cell_type": "code",
      "metadata": {
        "colab": {
          "base_uri": "https://localhost:8080/"
        },
        "id": "hK2-nHrBx5zf",
        "outputId": "f009d8ac-3f3d-4b9f-dbd0-32ca1e2364ec"
      },
      "source": [
        "product(5,6,7)"
      ],
      "execution_count": 7,
      "outputs": [
        {
          "output_type": "execute_result",
          "data": {
            "text/plain": [
              "210"
            ]
          },
          "metadata": {},
          "execution_count": 7
        }
      ]
    },
    {
      "cell_type": "code",
      "metadata": {
        "colab": {
          "base_uri": "https://localhost:8080/"
        },
        "id": "XSPY5dZUx70Q",
        "outputId": "4985c9eb-3ea5-4038-b27a-c7868eadc6b3"
      },
      "source": [
        "product(5,5,5)"
      ],
      "execution_count": 12,
      "outputs": [
        {
          "output_type": "stream",
          "name": "stdout",
          "text": [
            "args is:  (5, 5, 5)\n"
          ]
        },
        {
          "output_type": "execute_result",
          "data": {
            "text/plain": [
              "125"
            ]
          },
          "metadata": {},
          "execution_count": 12
        }
      ]
    },
    {
      "cell_type": "code",
      "metadata": {
        "id": "n7FTew2QzLtm"
      },
      "source": [
        "def deriv(f, x, h=1.0e-9, *params):\n",
        "  return (f(x + h, *params) - f(x - h, *params))/(2.*h)"
      ],
      "execution_count": 17,
      "outputs": []
    },
    {
      "cell_type": "code",
      "metadata": {
        "id": "mD2FiAvS0hVl"
      },
      "source": [
        "def f0(x):\n",
        "  return 4*x**5"
      ],
      "execution_count": 18,
      "outputs": []
    },
    {
      "cell_type": "code",
      "metadata": {
        "colab": {
          "base_uri": "https://localhost:8080/"
        },
        "id": "djh2qbci1faN",
        "outputId": "74ecab51-9678-4db0-e68a-76ba3f8a0a14"
      },
      "source": [
        "deriv(f0,3)"
      ],
      "execution_count": 31,
      "outputs": [
        {
          "output_type": "execute_result",
          "data": {
            "text/plain": [
              "1620.0001482502557"
            ]
          },
          "metadata": {},
          "execution_count": 31
        }
      ]
    },
    {
      "cell_type": "code",
      "metadata": {
        "id": "l4jIu7BU2ek5"
      },
      "source": [
        "def f1(x,*params):\n",
        "  a = params[0]\n",
        "  p = params[1]\n",
        "  return a*x**p"
      ],
      "execution_count": 34,
      "outputs": []
    },
    {
      "cell_type": "code",
      "metadata": {
        "colab": {
          "base_uri": "https://localhost:8080/"
        },
        "id": "6v-XMr8C2rBD",
        "outputId": "76abcdd3-5713-48eb-ed4d-7e31e2ad1f35"
      },
      "source": [
        "deriv(f1, 3, 1.e-9, *(4, 5))"
      ],
      "execution_count": 39,
      "outputs": [
        {
          "output_type": "execute_result",
          "data": {
            "text/plain": [
              "1620.0001482502557"
            ]
          },
          "metadata": {},
          "execution_count": 39
        }
      ]
    },
    {
      "cell_type": "code",
      "metadata": {
        "id": "HnoWjr0K5kAj"
      },
      "source": [
        "# pi\n",
        "# I Learned This Approach for Calculating PI number from my dear friend Mr. Armin Ghanbarzadeh.\n",
        "import numpy as np\n",
        "NUM = 10000\n",
        "x = np.random.uniform(-0.5, 0.5, size=(NUM))\n",
        "y = np.random.uniform(-0.5, 0.5, size=(NUM))\n",
        "x_in_C = []\n",
        "y_in_C = []\n",
        "c = 0\n",
        "for i in range(NUM):\n",
        "  if x[i]**2+y[i]**2<=(1/4):\n",
        "    c = c + 1\n",
        "    x_in_C.append(x[i])\n",
        "    y_in_C.append(y[i])\n",
        "    # print(c)\n",
        "p = c/NUM\n",
        "pi = 4*p"
      ],
      "execution_count": 74,
      "outputs": []
    },
    {
      "cell_type": "code",
      "metadata": {
        "colab": {
          "base_uri": "https://localhost:8080/"
        },
        "id": "YnAJVRhn8nML",
        "outputId": "995df3e5-dba1-465b-ea1c-d776c10cbb43"
      },
      "source": [
        "pi"
      ],
      "execution_count": 75,
      "outputs": [
        {
          "output_type": "execute_result",
          "data": {
            "text/plain": [
              "3.1412"
            ]
          },
          "metadata": {},
          "execution_count": 75
        }
      ]
    },
    {
      "cell_type": "code",
      "metadata": {
        "colab": {
          "base_uri": "https://localhost:8080/",
          "height": 265
        },
        "id": "vlxWdKgL-6jP",
        "outputId": "ea7cc04c-ce44-4a97-892c-248490a83b60"
      },
      "source": [
        "import matplotlib.pyplot as plt\n",
        "plt.figure()\n",
        "plt.scatter(x, y, c='b', vmin=-0.5, vmax=0.5)\n",
        "plt.scatter(x_in_C, y_in_C, c='r', vmin=-0.5, vmax=0.5)\n",
        "plt.show()"
      ],
      "execution_count": 76,
      "outputs": [
        {
          "output_type": "display_data",
          "data": {
            "image/png": "[encoded data removed]",
            "text/plain": [
              "<Figure size 432x288 with 1 Axes>"
            ]
          },
          "metadata": {
            "needs_background": "light"
          }
        }
      ]
    }
  ]
}