{
  "nbformat": 4,
  "nbformat_minor": 0,
  "metadata": {
    "colab": {
      "name": "itmemaut5.ipynb",
      "provenance": [],
      "collapsed_sections": [],
      "authorship_tag": "ABX9TyPQU+K+r+HzKLSBwA4LzrEX",
      "include_colab_link": true
    },
    "kernelspec": {
      "name": "python3",
      "display_name": "Python 3"
    },
    "language_info": {
      "name": "python"
    }
  },
  "cells": [
    {
      "cell_type": "markdown",
      "metadata": {
        "id": "view-in-github",
        "colab_type": "text"
      },
      "source": [
        "<a href=\"https://colab.research.google.com/github/MJavadZallaghi/itmemaut/blob/main/itmemaut5.ipynb\" target=\"_parent\"><img src=\"https://colab.research.google.com/assets/colab-badge.svg\" alt=\"Open In Colab\"/></a>"
      ]
    },
    {
      "cell_type": "code",
      "metadata": {
        "colab": {
          "base_uri": "https://localhost:8080/"
        },
        "id": "KPV3gPELqKVA",
        "outputId": "e6cfac9d-458b-4ac9-8b56-cb8acc1408b6"
      },
      "source": [
        "citynames = ['Tehran', 'Ahvaz', 'Shiraz', 'Tabriz']\n",
        "for city in citynames:\n",
        "  print(city, end='\\n')\n",
        "  if city == 'Tehran':\n",
        "    print('The Capital!')\n",
        "print('All done.')"
      ],
      "execution_count": 6,
      "outputs": [
        {
          "output_type": "stream",
          "name": "stdout",
          "text": [
            "Tehran\n",
            "The Capital!\n",
            "Ahvaz\n",
            "Shiraz\n",
            "Tabriz\n",
            "All done.\n"
          ]
        }
      ]
    },
    {
      "cell_type": "code",
      "metadata": {
        "colab": {
          "base_uri": "https://localhost:8080/"
        },
        "id": "kcfOBKCBvngB",
        "outputId": "59334222-3776-4a83-d02d-a4c89e54bb8b"
      },
      "source": [
        "s = 0\n",
        "for i in range(1,101,1):\n",
        "  print('i is: ', i, end='|    ')\n",
        "  s = s + i\n",
        "  print('s is: ', s)\n",
        "print('sum is: ', s)"
      ],
      "execution_count": 12,
      "outputs": [
        {
          "output_type": "stream",
          "name": "stdout",
          "text": [
            "i is:  1|    s is:  1\n",
            "i is:  2|    s is:  3\n",
            "i is:  3|    s is:  6\n",
            "i is:  4|    s is:  10\n",
            "i is:  5|    s is:  15\n",
            "i is:  6|    s is:  21\n",
            "i is:  7|    s is:  28\n",
            "i is:  8|    s is:  36\n",
            "i is:  9|    s is:  45\n",
            "i is:  10|    s is:  55\n",
            "i is:  11|    s is:  66\n",
            "i is:  12|    s is:  78\n",
            "i is:  13|    s is:  91\n",
            "i is:  14|    s is:  105\n",
            "i is:  15|    s is:  120\n",
            "i is:  16|    s is:  136\n",
            "i is:  17|    s is:  153\n",
            "i is:  18|    s is:  171\n",
            "i is:  19|    s is:  190\n",
            "i is:  20|    s is:  210\n",
            "i is:  21|    s is:  231\n",
            "i is:  22|    s is:  253\n",
            "i is:  23|    s is:  276\n",
            "i is:  24|    s is:  300\n",
            "i is:  25|    s is:  325\n",
            "i is:  26|    s is:  351\n",
            "i is:  27|    s is:  378\n",
            "i is:  28|    s is:  406\n",
            "i is:  29|    s is:  435\n",
            "i is:  30|    s is:  465\n",
            "i is:  31|    s is:  496\n",
            "i is:  32|    s is:  528\n",
            "i is:  33|    s is:  561\n",
            "i is:  34|    s is:  595\n",
            "i is:  35|    s is:  630\n",
            "i is:  36|    s is:  666\n",
            "i is:  37|    s is:  703\n",
            "i is:  38|    s is:  741\n",
            "i is:  39|    s is:  780\n",
            "i is:  40|    s is:  820\n",
            "i is:  41|    s is:  861\n",
            "i is:  42|    s is:  903\n",
            "i is:  43|    s is:  946\n",
            "i is:  44|    s is:  990\n",
            "i is:  45|    s is:  1035\n",
            "i is:  46|    s is:  1081\n",
            "i is:  47|    s is:  1128\n",
            "i is:  48|    s is:  1176\n",
            "i is:  49|    s is:  1225\n",
            "i is:  50|    s is:  1275\n",
            "i is:  51|    s is:  1326\n",
            "i is:  52|    s is:  1378\n",
            "i is:  53|    s is:  1431\n",
            "i is:  54|    s is:  1485\n",
            "i is:  55|    s is:  1540\n",
            "i is:  56|    s is:  1596\n",
            "i is:  57|    s is:  1653\n",
            "i is:  58|    s is:  1711\n",
            "i is:  59|    s is:  1770\n",
            "i is:  60|    s is:  1830\n",
            "i is:  61|    s is:  1891\n",
            "i is:  62|    s is:  1953\n",
            "i is:  63|    s is:  2016\n",
            "i is:  64|    s is:  2080\n",
            "i is:  65|    s is:  2145\n",
            "i is:  66|    s is:  2211\n",
            "i is:  67|    s is:  2278\n",
            "i is:  68|    s is:  2346\n",
            "i is:  69|    s is:  2415\n",
            "i is:  70|    s is:  2485\n",
            "i is:  71|    s is:  2556\n",
            "i is:  72|    s is:  2628\n",
            "i is:  73|    s is:  2701\n",
            "i is:  74|    s is:  2775\n",
            "i is:  75|    s is:  2850\n",
            "i is:  76|    s is:  2926\n",
            "i is:  77|    s is:  3003\n",
            "i is:  78|    s is:  3081\n",
            "i is:  79|    s is:  3160\n",
            "i is:  80|    s is:  3240\n",
            "i is:  81|    s is:  3321\n",
            "i is:  82|    s is:  3403\n",
            "i is:  83|    s is:  3486\n",
            "i is:  84|    s is:  3570\n",
            "i is:  85|    s is:  3655\n",
            "i is:  86|    s is:  3741\n",
            "i is:  87|    s is:  3828\n",
            "i is:  88|    s is:  3916\n",
            "i is:  89|    s is:  4005\n",
            "i is:  90|    s is:  4095\n",
            "i is:  91|    s is:  4186\n",
            "i is:  92|    s is:  4278\n",
            "i is:  93|    s is:  4371\n",
            "i is:  94|    s is:  4465\n",
            "i is:  95|    s is:  4560\n",
            "i is:  96|    s is:  4656\n",
            "i is:  97|    s is:  4753\n",
            "i is:  98|    s is:  4851\n",
            "i is:  99|    s is:  4950\n",
            "i is:  100|    s is:  5050\n",
            "sum is:  5050\n"
          ]
        }
      ]
    },
    {
      "cell_type": "code",
      "metadata": {
        "colab": {
          "base_uri": "https://localhost:8080/"
        },
        "id": "iPvln_PBykj2",
        "outputId": "e55f98c7-fd3d-46b6-bb1a-e29961285f59"
      },
      "source": [
        "a = 'Iran is a beautiful country.'\n",
        "words = a.split(sep=' ')\n",
        "for b in a:\n",
        "  print(b)\n",
        "print('\\n')\n",
        "print(words)\n",
        "for word in words:\n",
        "  print(word)"
      ],
      "execution_count": 19,
      "outputs": [
        {
          "output_type": "stream",
          "name": "stdout",
          "text": [
            "I\n",
            "r\n",
            "a\n",
            "n\n",
            " \n",
            "i\n",
            "s\n",
            " \n",
            "a\n",
            " \n",
            "b\n",
            "e\n",
            "a\n",
            "u\n",
            "t\n",
            "i\n",
            "f\n",
            "u\n",
            "l\n",
            " \n",
            "c\n",
            "o\n",
            "u\n",
            "n\n",
            "t\n",
            "r\n",
            "y\n",
            ".\n",
            "\n",
            "\n",
            "['Iran', 'is', 'a', 'beautiful', 'country.']\n",
            "Iran\n",
            "is\n",
            "a\n",
            "beautiful\n",
            "country.\n"
          ]
        }
      ]
    },
    {
      "cell_type": "code",
      "metadata": {
        "colab": {
          "base_uri": "https://localhost:8080/"
        },
        "id": "1dEjcHZb0xWm",
        "outputId": "a64c639c-237a-4734-d648-9446f6155135"
      },
      "source": [
        "i = 0\n",
        "for letter in a:\n",
        "  if i%3 == 0:\n",
        "    print(letter, end='   ')\n",
        "  i+=1\n",
        "print('\\n', 'Done!')"
      ],
      "execution_count": 21,
      "outputs": [
        {
          "output_type": "stream",
          "name": "stdout",
          "text": [
            "I   n   s       a   i   l   o   t   .   \n",
            " Done!\n"
          ]
        }
      ]
    },
    {
      "cell_type": "code",
      "metadata": {
        "colab": {
          "base_uri": "https://localhost:8080/"
        },
        "id": "an6xPVxH2zzM",
        "outputId": "c2befeac-e632-4fa2-f83b-b8740eec8f8e"
      },
      "source": [
        "m = float(input('Enter a number:'))\n",
        "m = 2*m\n",
        "print(m)"
      ],
      "execution_count": 23,
      "outputs": [
        {
          "output_type": "stream",
          "name": "stdout",
          "text": [
            "Enter a number:15\n",
            "30.0\n"
          ]
        }
      ]
    },
    {
      "cell_type": "code",
      "metadata": {
        "colab": {
          "base_uri": "https://localhost:8080/"
        },
        "id": "n37R8Kn_3ewK",
        "outputId": "ee834948-d52c-4d61-a1e1-877f12ebf33a"
      },
      "source": [
        "x, y = 0, 1\n",
        "fibo = []\n",
        "while x<1000:\n",
        "  fibo.append(x)\n",
        "  print(x)\n",
        "  x, y = y, x+y\n",
        "print(fibo)\n",
        "num = 6\n",
        "if num in fibo:\n",
        "  print('it is in')\n",
        "else:\n",
        "  print('it is not')"
      ],
      "execution_count": 27,
      "outputs": [
        {
          "output_type": "stream",
          "name": "stdout",
          "text": [
            "0\n",
            "1\n",
            "1\n",
            "2\n",
            "3\n",
            "5\n",
            "8\n",
            "13\n",
            "21\n",
            "34\n",
            "55\n",
            "89\n",
            "144\n",
            "233\n",
            "377\n",
            "610\n",
            "987\n",
            "[0, 1, 1, 2, 3, 5, 8, 13, 21, 34, 55, 89, 144, 233, 377, 610, 987]\n",
            "it is not\n"
          ]
        }
      ]
    },
    {
      "cell_type": "code",
      "metadata": {
        "colab": {
          "base_uri": "https://localhost:8080/"
        },
        "id": "_33TPP1J6VUN",
        "outputId": "f1fc1ab5-0d82-4235-b0e1-efc4dc8f5033"
      },
      "source": [
        "import numpy as np\n",
        "import time\n",
        "a = np.linspace(0,32,10000000)\n",
        "print(a)\n",
        "startTime = time.process_time()\n",
        "for i in range(len(a)):\n",
        "  a[i] = a[i]*a[i]\n",
        "endTime = time.process_time()\n",
        "print(a)\n",
        "print('Total Ptocessing Time is: ', (endTime - startTime))"
      ],
      "execution_count": 37,
      "outputs": [
        {
          "output_type": "stream",
          "name": "stdout",
          "text": [
            "[0.00000000e+00 3.20000032e-06 6.40000064e-06 ... 3.19999936e+01\n",
            " 3.19999968e+01 3.20000000e+01]\n",
            "[0.00000000e+00 1.02400020e-11 4.09600082e-11 ... 1.02399959e+03\n",
            " 1.02399980e+03 1.02400000e+03]\n",
            "Total Ptocessing Time is:  5.6005954540000005\n"
          ]
        }
      ]
    },
    {
      "cell_type": "code",
      "metadata": {
        "colab": {
          "base_uri": "https://localhost:8080/"
        },
        "id": "o9YDiqGP8A0q",
        "outputId": "c228f88d-1c93-458d-abf4-4f257671275d"
      },
      "source": [
        "import numpy as np\n",
        "import time\n",
        "a = np.linspace(0,32,10000000)\n",
        "print(a)\n",
        "startTime = time.process_time()\n",
        "a = a * a\n",
        "endTime = time.process_time()\n",
        "print(a)\n",
        "print('Total Ptocessing Time is: ', (endTime - startTime))"
      ],
      "execution_count": 38,
      "outputs": [
        {
          "output_type": "stream",
          "name": "stdout",
          "text": [
            "[0.00000000e+00 3.20000032e-06 6.40000064e-06 ... 3.19999936e+01\n",
            " 3.19999968e+01 3.20000000e+01]\n",
            "[0.00000000e+00 1.02400020e-11 4.09600082e-11 ... 1.02399959e+03\n",
            " 1.02399980e+03 1.02400000e+03]\n",
            "Total Ptocessing Time is:  0.03240868199999625\n"
          ]
        }
      ]
    }
  ]
}