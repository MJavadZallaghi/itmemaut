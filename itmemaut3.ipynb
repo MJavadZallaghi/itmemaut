{
  "nbformat": 4,
  "nbformat_minor": 0,
  "metadata": {
    "colab": {
      "name": "itmemaut3.ipynb",
      "provenance": [],
      "collapsed_sections": [],
      "authorship_tag": "ABX9TyNxLeI0QFMlv7sXPGhppBxf",
      "include_colab_link": true
    },
    "kernelspec": {
      "name": "python3",
      "display_name": "Python 3"
    },
    "language_info": {
      "name": "python"
    }
  },
  "cells": [
    {
      "cell_type": "markdown",
      "metadata": {
        "id": "view-in-github",
        "colab_type": "text"
      },
      "source": [
        "<a href=\"https://colab.research.google.com/github/MJavadZallaghi/itmemaut/blob/main/itmemaut3.ipynb\" target=\"_parent\"><img src=\"https://colab.research.google.com/assets/colab-badge.svg\" alt=\"Open In Colab\"/></a>"
      ]
    },
    {
      "cell_type": "code",
      "metadata": {
        "id": "B9vVTx2Lj9Qv"
      },
      "source": [
        "import numpy as np"
      ],
      "execution_count": null,
      "outputs": []
    },
    {
      "cell_type": "code",
      "metadata": {
        "id": "H3PeZ3snkUpA"
      },
      "source": [
        "a = [0, 0, 1, 4, 7, 16, 31, 64, 127]"
      ],
      "execution_count": null,
      "outputs": []
    },
    {
      "cell_type": "code",
      "metadata": {
        "id": "ik03DecVkbhz"
      },
      "source": [
        "b = np.array(a)"
      ],
      "execution_count": null,
      "outputs": []
    },
    {
      "cell_type": "code",
      "metadata": {
        "colab": {
          "base_uri": "https://localhost:8080/"
        },
        "id": "nYq8Zfc9kjNO",
        "outputId": "1b552ccb-84f6-416f-ca93-32a24298a1e6"
      },
      "source": [
        "b"
      ],
      "execution_count": null,
      "outputs": [
        {
          "output_type": "execute_result",
          "data": {
            "text/plain": [
              "array([  0,   0,   1,   4,   7,  16,  31,  64, 127])"
            ]
          },
          "metadata": {},
          "execution_count": 4
        }
      ]
    },
    {
      "cell_type": "code",
      "metadata": {
        "colab": {
          "base_uri": "https://localhost:8080/"
        },
        "id": "qmy7BUe6kvFV",
        "outputId": "163357b8-76f1-47e6-afa4-1255473efd9d"
      },
      "source": [
        "c = np.array([1, 4., -2, 7])\n",
        "c"
      ],
      "execution_count": null,
      "outputs": [
        {
          "output_type": "execute_result",
          "data": {
            "text/plain": [
              "array([ 1.,  4., -2.,  7.])"
            ]
          },
          "metadata": {},
          "execution_count": 5
        }
      ]
    },
    {
      "cell_type": "code",
      "metadata": {
        "colab": {
          "base_uri": "https://localhost:8080/"
        },
        "id": "HklMCzl-k4BK",
        "outputId": "cca16743-6424-4864-b4d7-17f853d26153"
      },
      "source": [
        "np.linspace(0,10,5)"
      ],
      "execution_count": null,
      "outputs": [
        {
          "output_type": "execute_result",
          "data": {
            "text/plain": [
              "array([ 0. ,  2.5,  5. ,  7.5, 10. ])"
            ]
          },
          "metadata": {},
          "execution_count": 7
        }
      ]
    },
    {
      "cell_type": "code",
      "metadata": {
        "colab": {
          "base_uri": "https://localhost:8080/"
        },
        "id": "HxNp9z2el8Pp",
        "outputId": "63c93fe3-858f-4ce7-b346-d66e741986bb"
      },
      "source": [
        "np.logspace(1,3,5)"
      ],
      "execution_count": null,
      "outputs": [
        {
          "output_type": "execute_result",
          "data": {
            "text/plain": [
              "array([  10.        ,   31.6227766 ,  100.        ,  316.22776602,\n",
              "       1000.        ])"
            ]
          },
          "metadata": {},
          "execution_count": 8
        }
      ]
    },
    {
      "cell_type": "code",
      "metadata": {
        "colab": {
          "base_uri": "https://localhost:8080/"
        },
        "id": "_slwQRwPmWAM",
        "outputId": "3681efbe-6f15-405c-ee20-290702cc00f1"
      },
      "source": [
        "np.arange(0,10,2)"
      ],
      "execution_count": null,
      "outputs": [
        {
          "output_type": "execute_result",
          "data": {
            "text/plain": [
              "array([0, 2, 4, 6, 8])"
            ]
          },
          "metadata": {},
          "execution_count": 9
        }
      ]
    },
    {
      "cell_type": "code",
      "metadata": {
        "colab": {
          "base_uri": "https://localhost:8080/"
        },
        "id": "I8V1H2NdmdMB",
        "outputId": "0b7ce61d-1181-4bf9-82f6-9aeea8371365"
      },
      "source": [
        "np.arange(0.,10,2)"
      ],
      "execution_count": null,
      "outputs": [
        {
          "output_type": "execute_result",
          "data": {
            "text/plain": [
              "array([0., 2., 4., 6., 8.])"
            ]
          },
          "metadata": {},
          "execution_count": 10
        }
      ]
    },
    {
      "cell_type": "code",
      "metadata": {
        "colab": {
          "base_uri": "https://localhost:8080/"
        },
        "id": "6v6PpafimjZ2",
        "outputId": "aaf216dd-2c31-4950-cde5-27acb82728d3"
      },
      "source": [
        "list(range(0,10,2))"
      ],
      "execution_count": null,
      "outputs": [
        {
          "output_type": "execute_result",
          "data": {
            "text/plain": [
              "[0, 2, 4, 6, 8]"
            ]
          },
          "metadata": {},
          "execution_count": 11
        }
      ]
    },
    {
      "cell_type": "code",
      "metadata": {
        "colab": {
          "base_uri": "https://localhost:8080/"
        },
        "id": "ca-BrfvRmsE5",
        "outputId": "79b08bea-d6a5-4721-d0e5-264aa699eeda"
      },
      "source": [
        "np.arange(0.,10,1.5)"
      ],
      "execution_count": null,
      "outputs": [
        {
          "output_type": "execute_result",
          "data": {
            "text/plain": [
              "array([0. , 1.5, 3. , 4.5, 6. , 7.5, 9. ])"
            ]
          },
          "metadata": {},
          "execution_count": 12
        }
      ]
    },
    {
      "cell_type": "code",
      "metadata": {
        "colab": {
          "base_uri": "https://localhost:8080/"
        },
        "id": "Pm3L546kmyeh",
        "outputId": "923dbc4e-ba0a-4801-e7d7-b3a975ae4cd5"
      },
      "source": [
        "np.zeros(6)"
      ],
      "execution_count": null,
      "outputs": [
        {
          "output_type": "execute_result",
          "data": {
            "text/plain": [
              "array([0., 0., 0., 0., 0., 0.])"
            ]
          },
          "metadata": {},
          "execution_count": 13
        }
      ]
    },
    {
      "cell_type": "code",
      "metadata": {
        "colab": {
          "base_uri": "https://localhost:8080/"
        },
        "id": "eX2YvYC0m6R3",
        "outputId": "61f7c4a4-2d4b-493c-9980-de7bb7c94471"
      },
      "source": [
        "np.ones(8)"
      ],
      "execution_count": null,
      "outputs": [
        {
          "output_type": "execute_result",
          "data": {
            "text/plain": [
              "array([1., 1., 1., 1., 1., 1., 1., 1.])"
            ]
          },
          "metadata": {},
          "execution_count": 17
        }
      ]
    },
    {
      "cell_type": "code",
      "metadata": {
        "colab": {
          "base_uri": "https://localhost:8080/"
        },
        "id": "-lemXRcSm-VW",
        "outputId": "1859c3ff-786d-4f6a-d719-cf5c3656dc78"
      },
      "source": [
        "2*np.ones(8, dtype=int)"
      ],
      "execution_count": null,
      "outputs": [
        {
          "output_type": "execute_result",
          "data": {
            "text/plain": [
              "array([2, 2, 2, 2, 2, 2, 2, 2])"
            ]
          },
          "metadata": {},
          "execution_count": 18
        }
      ]
    },
    {
      "cell_type": "code",
      "metadata": {
        "id": "6kVPORxnnJnQ"
      },
      "source": [
        "a = np.linspace(-1,5,7)"
      ],
      "execution_count": null,
      "outputs": []
    },
    {
      "cell_type": "code",
      "metadata": {
        "colab": {
          "base_uri": "https://localhost:8080/"
        },
        "id": "-F4xvq6Co2kd",
        "outputId": "0519d07a-a73f-476c-e22e-46cec2773a10"
      },
      "source": [
        "a"
      ],
      "execution_count": null,
      "outputs": [
        {
          "output_type": "execute_result",
          "data": {
            "text/plain": [
              "array([-1.,  0.,  1.,  2.,  3.,  4.,  5.])"
            ]
          },
          "metadata": {},
          "execution_count": 20
        }
      ]
    },
    {
      "cell_type": "code",
      "metadata": {
        "colab": {
          "base_uri": "https://localhost:8080/"
        },
        "id": "HSNkxQ33o3HG",
        "outputId": "0024f53c-e2de-42d3-c02c-503c3dabd45f"
      },
      "source": [
        "a*6"
      ],
      "execution_count": null,
      "outputs": [
        {
          "output_type": "execute_result",
          "data": {
            "text/plain": [
              "array([-6.,  0.,  6., 12., 18., 24., 30.])"
            ]
          },
          "metadata": {},
          "execution_count": 21
        }
      ]
    },
    {
      "cell_type": "code",
      "metadata": {
        "colab": {
          "base_uri": "https://localhost:8080/"
        },
        "id": "PQS_kzNAo5zX",
        "outputId": "ec10063f-054e-4700-ae2e-dd85399bfcbd"
      },
      "source": [
        "a/5"
      ],
      "execution_count": null,
      "outputs": [
        {
          "output_type": "execute_result",
          "data": {
            "text/plain": [
              "array([-0.2,  0. ,  0.2,  0.4,  0.6,  0.8,  1. ])"
            ]
          },
          "metadata": {},
          "execution_count": 22
        }
      ]
    },
    {
      "cell_type": "code",
      "metadata": {
        "colab": {
          "base_uri": "https://localhost:8080/"
        },
        "id": "aNTPchSeo6x1",
        "outputId": "70637a7e-257b-4ffb-b383-a9dfe4399952"
      },
      "source": [
        "a**3"
      ],
      "execution_count": null,
      "outputs": [
        {
          "output_type": "execute_result",
          "data": {
            "text/plain": [
              "array([ -1.,   0.,   1.,   8.,  27.,  64., 125.])"
            ]
          },
          "metadata": {},
          "execution_count": 23
        }
      ]
    },
    {
      "cell_type": "code",
      "metadata": {
        "colab": {
          "base_uri": "https://localhost:8080/"
        },
        "id": "IJdtoVrpo-2W",
        "outputId": "c1b674c3-6e4c-4784-a9f1-fed03cdc4940"
      },
      "source": [
        "a+4"
      ],
      "execution_count": null,
      "outputs": [
        {
          "output_type": "execute_result",
          "data": {
            "text/plain": [
              "array([3., 4., 5., 6., 7., 8., 9.])"
            ]
          },
          "metadata": {},
          "execution_count": 24
        }
      ]
    },
    {
      "cell_type": "code",
      "metadata": {
        "colab": {
          "base_uri": "https://localhost:8080/"
        },
        "id": "4FQ8zpbEpBUW",
        "outputId": "c18fd7f0-6076-4665-9214-cb9c1f507978"
      },
      "source": [
        "a-10"
      ],
      "execution_count": null,
      "outputs": [
        {
          "output_type": "execute_result",
          "data": {
            "text/plain": [
              "array([-11., -10.,  -9.,  -8.,  -7.,  -6.,  -5.])"
            ]
          },
          "metadata": {},
          "execution_count": 25
        }
      ]
    },
    {
      "cell_type": "code",
      "metadata": {
        "colab": {
          "base_uri": "https://localhost:8080/"
        },
        "id": "pji9I7iApCeR",
        "outputId": "cecbbfc3-b9ba-4d7e-8ecd-443c44a11136"
      },
      "source": [
        "(a+3)*2"
      ],
      "execution_count": null,
      "outputs": [
        {
          "output_type": "execute_result",
          "data": {
            "text/plain": [
              "array([ 4.,  6.,  8., 10., 12., 14., 16.])"
            ]
          },
          "metadata": {},
          "execution_count": 26
        }
      ]
    },
    {
      "cell_type": "code",
      "metadata": {
        "colab": {
          "base_uri": "https://localhost:8080/"
        },
        "id": "0VusrVFHpHZI",
        "outputId": "5b110a91-3a38-4d48-ee8a-0578912d8337"
      },
      "source": [
        "np.sin(a)"
      ],
      "execution_count": null,
      "outputs": [
        {
          "output_type": "execute_result",
          "data": {
            "text/plain": [
              "array([-0.84147098,  0.        ,  0.84147098,  0.90929743,  0.14112001,\n",
              "       -0.7568025 , -0.95892427])"
            ]
          },
          "metadata": {},
          "execution_count": 27
        }
      ]
    },
    {
      "cell_type": "code",
      "metadata": {
        "colab": {
          "base_uri": "https://localhost:8080/"
        },
        "id": "4E5L67KcpJ6U",
        "outputId": "36c2ef75-7eb0-45be-dd82-96950a0bce87"
      },
      "source": [
        "np.exp(-a) #array([e^1 e^0 e^-1 ...])"
      ],
      "execution_count": null,
      "outputs": [
        {
          "output_type": "execute_result",
          "data": {
            "text/plain": [
              "array([2.71828183, 1.        , 0.36787944, 0.13533528, 0.04978707,\n",
              "       0.01831564, 0.00673795])"
            ]
          },
          "metadata": {},
          "execution_count": 28
        }
      ]
    },
    {
      "cell_type": "code",
      "metadata": {
        "id": "S43-6vDYpYfi"
      },
      "source": [
        "b = 5*np.ones(8)"
      ],
      "execution_count": null,
      "outputs": []
    },
    {
      "cell_type": "code",
      "metadata": {
        "colab": {
          "base_uri": "https://localhost:8080/"
        },
        "id": "3lCi3j8ep0mr",
        "outputId": "16c6a43b-3d97-4f89-e3f2-b407cccc5b77"
      },
      "source": [
        "b"
      ],
      "execution_count": null,
      "outputs": [
        {
          "output_type": "execute_result",
          "data": {
            "text/plain": [
              "array([5., 5., 5., 5., 5., 5., 5., 5.])"
            ]
          },
          "metadata": {},
          "execution_count": 30
        }
      ]
    },
    {
      "cell_type": "code",
      "metadata": {
        "id": "JvayP1u5p1If"
      },
      "source": [
        "b += 4"
      ],
      "execution_count": null,
      "outputs": []
    },
    {
      "cell_type": "code",
      "metadata": {
        "colab": {
          "base_uri": "https://localhost:8080/"
        },
        "id": "OtQfydcAp6Rh",
        "outputId": "c7daee67-93e3-4aa5-ab46-0ebc3f8b1bc7"
      },
      "source": [
        "b"
      ],
      "execution_count": null,
      "outputs": [
        {
          "output_type": "execute_result",
          "data": {
            "text/plain": [
              "array([9., 9., 9., 9., 9., 9., 9., 9.])"
            ]
          },
          "metadata": {},
          "execution_count": 32
        }
      ]
    },
    {
      "cell_type": "code",
      "metadata": {
        "id": "6Ej1XrMFp6tl"
      },
      "source": [
        "# y = cos(x)\n",
        "x = np.linspace(-np.pi, np.pi, 21)\n",
        "y = np.cos(x)"
      ],
      "execution_count": null,
      "outputs": []
    },
    {
      "cell_type": "code",
      "metadata": {
        "colab": {
          "base_uri": "https://localhost:8080/"
        },
        "id": "YlDtllpqrO4H",
        "outputId": "037e63f2-feca-4408-8c0c-58d80a569a45"
      },
      "source": [
        "x"
      ],
      "execution_count": null,
      "outputs": [
        {
          "output_type": "execute_result",
          "data": {
            "text/plain": [
              "array([-3.14159265, -2.82743339, -2.51327412, -2.19911486, -1.88495559,\n",
              "       -1.57079633, -1.25663706, -0.9424778 , -0.62831853, -0.31415927,\n",
              "        0.        ,  0.31415927,  0.62831853,  0.9424778 ,  1.25663706,\n",
              "        1.57079633,  1.88495559,  2.19911486,  2.51327412,  2.82743339,\n",
              "        3.14159265])"
            ]
          },
          "metadata": {},
          "execution_count": 34
        }
      ]
    },
    {
      "cell_type": "code",
      "metadata": {
        "colab": {
          "base_uri": "https://localhost:8080/"
        },
        "id": "3umSC1yUrP2a",
        "outputId": "d88499c4-05f5-4206-cb28-8b570005698d"
      },
      "source": [
        "y"
      ],
      "execution_count": null,
      "outputs": [
        {
          "output_type": "execute_result",
          "data": {
            "text/plain": [
              "array([-1.00000000e+00, -9.51056516e-01, -8.09016994e-01, -5.87785252e-01,\n",
              "       -3.09016994e-01,  6.12323400e-17,  3.09016994e-01,  5.87785252e-01,\n",
              "        8.09016994e-01,  9.51056516e-01,  1.00000000e+00,  9.51056516e-01,\n",
              "        8.09016994e-01,  5.87785252e-01,  3.09016994e-01,  6.12323400e-17,\n",
              "       -3.09016994e-01, -5.87785252e-01, -8.09016994e-01, -9.51056516e-01,\n",
              "       -1.00000000e+00])"
            ]
          },
          "metadata": {},
          "execution_count": 35
        }
      ]
    },
    {
      "cell_type": "code",
      "metadata": {
        "colab": {
          "base_uri": "https://localhost:8080/"
        },
        "id": "DEOvbaZMrRw3",
        "outputId": "dd24a270-dccd-4b52-9c56-b879963436e8"
      },
      "source": [
        "a"
      ],
      "execution_count": null,
      "outputs": [
        {
          "output_type": "execute_result",
          "data": {
            "text/plain": [
              "array([-1.,  0.,  1.,  2.,  3.,  4.,  5.])"
            ]
          },
          "metadata": {},
          "execution_count": 36
        }
      ]
    },
    {
      "cell_type": "code",
      "metadata": {
        "colab": {
          "base_uri": "https://localhost:8080/"
        },
        "id": "JboJvE8Brc03",
        "outputId": "b1564463-3b92-4499-cc99-32722b59fcab"
      },
      "source": [
        "np.log(a)"
      ],
      "execution_count": null,
      "outputs": [
        {
          "output_type": "stream",
          "name": "stderr",
          "text": [
            "/usr/local/lib/python3.7/dist-packages/ipykernel_launcher.py:1: RuntimeWarning: divide by zero encountered in log\n",
            "  \"\"\"Entry point for launching an IPython kernel.\n",
            "/usr/local/lib/python3.7/dist-packages/ipykernel_launcher.py:1: RuntimeWarning: invalid value encountered in log\n",
            "  \"\"\"Entry point for launching an IPython kernel.\n"
          ]
        },
        {
          "output_type": "execute_result",
          "data": {
            "text/plain": [
              "array([       nan,       -inf, 0.        , 0.69314718, 1.09861229,\n",
              "       1.38629436, 1.60943791])"
            ]
          },
          "metadata": {},
          "execution_count": 37
        }
      ]
    },
    {
      "cell_type": "code",
      "metadata": {
        "id": "IOBatuvysYjq"
      },
      "source": [
        "a = np.array([34.,-12,5])"
      ],
      "execution_count": null,
      "outputs": []
    },
    {
      "cell_type": "code",
      "metadata": {
        "id": "fjgSGtW_rjHg"
      },
      "source": [
        "b = np.array([68.,5,20])"
      ],
      "execution_count": null,
      "outputs": []
    },
    {
      "cell_type": "code",
      "metadata": {
        "colab": {
          "base_uri": "https://localhost:8080/"
        },
        "id": "kzK0iwclspu5",
        "outputId": "36dce6be-5cff-432e-9e84-b46354fd9363"
      },
      "source": [
        "a+b"
      ],
      "execution_count": null,
      "outputs": [
        {
          "output_type": "execute_result",
          "data": {
            "text/plain": [
              "array([102.,  -7.,  25.])"
            ]
          },
          "metadata": {},
          "execution_count": 41
        }
      ]
    },
    {
      "cell_type": "code",
      "metadata": {
        "colab": {
          "base_uri": "https://localhost:8080/"
        },
        "id": "jcg2ylITstb8",
        "outputId": "9cff03f0-66d0-4153-f62e-6973efaf63f3"
      },
      "source": [
        "a*b"
      ],
      "execution_count": null,
      "outputs": [
        {
          "output_type": "execute_result",
          "data": {
            "text/plain": [
              "array([2312.,  -60.,  100.])"
            ]
          },
          "metadata": {},
          "execution_count": 42
        }
      ]
    },
    {
      "cell_type": "code",
      "metadata": {
        "colab": {
          "base_uri": "https://localhost:8080/"
        },
        "id": "25zbLuTdsv8V",
        "outputId": "18931dad-c775-4978-f8d1-6ead9198e5ae"
      },
      "source": [
        "a/b"
      ],
      "execution_count": null,
      "outputs": [
        {
          "output_type": "execute_result",
          "data": {
            "text/plain": [
              "array([ 0.5 , -2.4 ,  0.25])"
            ]
          },
          "metadata": {},
          "execution_count": 43
        }
      ]
    },
    {
      "cell_type": "code",
      "metadata": {
        "id": "JBt53Oghsw4W"
      },
      "source": [
        "m = np.array([2,2])"
      ],
      "execution_count": null,
      "outputs": []
    },
    {
      "cell_type": "code",
      "metadata": {
        "colab": {
          "base_uri": "https://localhost:8080/",
          "height": 162
        },
        "id": "ETmpp-ButLEz",
        "outputId": "044c70dc-b54c-4d4b-bcdf-1e02f4bcf8a9"
      },
      "source": [
        "a+m"
      ],
      "execution_count": null,
      "outputs": [
        {
          "output_type": "error",
          "ename": "ValueError",
          "evalue": "ignored",
          "traceback": [
            "\u001b[0;31m---------------------------------------------------------------------------\u001b[0m",
            "\u001b[0;31mValueError\u001b[0m                                Traceback (most recent call last)",
            "\u001b[0;32m<ipython-input-45-25f2348a4221>\u001b[0m in \u001b[0;36m<module>\u001b[0;34m()\u001b[0m\n\u001b[0;32m----> 1\u001b[0;31m \u001b[0ma\u001b[0m\u001b[0;34m+\u001b[0m\u001b[0mm\u001b[0m\u001b[0;34m\u001b[0m\u001b[0;34m\u001b[0m\u001b[0m\n\u001b[0m",
            "\u001b[0;31mValueError\u001b[0m: operands could not be broadcast together with shapes (3,) (2,) "
          ]
        }
      ]
    },
    {
      "cell_type": "code",
      "metadata": {
        "id": "bmq3JeeRtMLc"
      },
      "source": [
        "y = np.array([0., 1.3, 5., 10.9, 18.9, 28.7, 40.])"
      ],
      "execution_count": null,
      "outputs": []
    },
    {
      "cell_type": "code",
      "metadata": {
        "id": "em8sx4lluP-L"
      },
      "source": [
        "t = np.array([0., 0.49, 1., 1.5, 2.08, 2.55, 3.2])"
      ],
      "execution_count": null,
      "outputs": []
    },
    {
      "cell_type": "code",
      "metadata": {
        "id": "aXqjn82PuYsX"
      },
      "source": [
        "# v = (y_i - y_i_1)/(t_i - t_i_1)"
      ],
      "execution_count": null,
      "outputs": []
    },
    {
      "cell_type": "code",
      "metadata": {
        "colab": {
          "base_uri": "https://localhost:8080/"
        },
        "id": "Q3AsJ4q0urKD",
        "outputId": "ea667108-20c7-481d-8e38-34e241989919"
      },
      "source": [
        "y[:-1]"
      ],
      "execution_count": null,
      "outputs": [
        {
          "output_type": "execute_result",
          "data": {
            "text/plain": [
              "array([ 0. ,  1.3,  5. , 10.9, 18.9, 28.7])"
            ]
          },
          "metadata": {},
          "execution_count": 49
        }
      ]
    },
    {
      "cell_type": "code",
      "metadata": {
        "colab": {
          "base_uri": "https://localhost:8080/"
        },
        "id": "kuV1sEHcuxDh",
        "outputId": "e752df9d-dc97-4624-d623-df3580a4c3a6"
      },
      "source": [
        "y[1:]"
      ],
      "execution_count": null,
      "outputs": [
        {
          "output_type": "execute_result",
          "data": {
            "text/plain": [
              "array([ 1.3,  5. , 10.9, 18.9, 28.7, 40. ])"
            ]
          },
          "metadata": {},
          "execution_count": 51
        }
      ]
    },
    {
      "cell_type": "code",
      "metadata": {
        "id": "rEbipTZcu0UZ"
      },
      "source": [
        "v = (y[1:]-y[:-1])/(t[1:]-t[:-1])"
      ],
      "execution_count": null,
      "outputs": []
    },
    {
      "cell_type": "code",
      "metadata": {
        "colab": {
          "base_uri": "https://localhost:8080/"
        },
        "id": "SLVDzWuhvXbO",
        "outputId": "726ee187-8add-4aae-ac99-989f5c9261ea"
      },
      "source": [
        "v"
      ],
      "execution_count": null,
      "outputs": [
        {
          "output_type": "execute_result",
          "data": {
            "text/plain": [
              "array([ 2.65306122,  7.25490196, 11.8       , 13.79310345, 20.85106383,\n",
              "       17.38461538])"
            ]
          },
          "metadata": {},
          "execution_count": 53
        }
      ]
    },
    {
      "cell_type": "code",
      "metadata": {
        "id": "fFdU0-R6vX_k"
      },
      "source": [
        "b = 1.0/np.arange(0.2,3,0.2)"
      ],
      "execution_count": null,
      "outputs": []
    },
    {
      "cell_type": "code",
      "metadata": {
        "colab": {
          "base_uri": "https://localhost:8080/"
        },
        "id": "4SqHAQtR0_Yq",
        "outputId": "18cabe13-6843-4b9a-97ba-933f9250fae4"
      },
      "source": [
        "b"
      ],
      "execution_count": null,
      "outputs": [
        {
          "output_type": "execute_result",
          "data": {
            "text/plain": [
              "array([5.        , 2.5       , 1.66666667, 1.25      , 1.        ,\n",
              "       0.83333333, 0.71428571, 0.625     , 0.55555556, 0.5       ,\n",
              "       0.45454545, 0.41666667, 0.38461538, 0.35714286])"
            ]
          },
          "metadata": {},
          "execution_count": 55
        }
      ]
    },
    {
      "cell_type": "code",
      "metadata": {
        "colab": {
          "base_uri": "https://localhost:8080/"
        },
        "id": "M98y3dfN1AVJ",
        "outputId": "e0e848d0-8e58-48a4-c328-79956bfba98f"
      },
      "source": [
        "b[b>1]"
      ],
      "execution_count": null,
      "outputs": [
        {
          "output_type": "execute_result",
          "data": {
            "text/plain": [
              "array([5.        , 2.5       , 1.66666667, 1.25      ])"
            ]
          },
          "metadata": {},
          "execution_count": 56
        }
      ]
    },
    {
      "cell_type": "code",
      "metadata": {
        "id": "Ca_lxjrE1Kbf"
      },
      "source": [
        "b[b>1] = 1"
      ],
      "execution_count": null,
      "outputs": []
    },
    {
      "cell_type": "code",
      "metadata": {
        "colab": {
          "base_uri": "https://localhost:8080/"
        },
        "id": "UZ0Z4Klb1TtJ",
        "outputId": "87320faf-c66f-47e3-b317-7a3b362a1422"
      },
      "source": [
        "b"
      ],
      "execution_count": null,
      "outputs": [
        {
          "output_type": "execute_result",
          "data": {
            "text/plain": [
              "array([1.        , 1.        , 1.        , 1.        , 1.        ,\n",
              "       0.83333333, 0.71428571, 0.625     , 0.55555556, 0.5       ,\n",
              "       0.45454545, 0.41666667, 0.38461538, 0.35714286])"
            ]
          },
          "metadata": {},
          "execution_count": 58
        }
      ]
    },
    {
      "cell_type": "code",
      "metadata": {
        "colab": {
          "base_uri": "https://localhost:8080/"
        },
        "id": "4FCyOWxC1UjQ",
        "outputId": "0052f99b-280f-4ec9-af8a-6e2094e5c52a"
      },
      "source": [
        "b.size"
      ],
      "execution_count": null,
      "outputs": [
        {
          "output_type": "execute_result",
          "data": {
            "text/plain": [
              "14"
            ]
          },
          "metadata": {},
          "execution_count": 59
        }
      ]
    },
    {
      "cell_type": "code",
      "metadata": {
        "id": "2tDmoKS81n5G"
      },
      "source": [
        "c = np.linspace(0,10,b.size)"
      ],
      "execution_count": null,
      "outputs": []
    },
    {
      "cell_type": "code",
      "metadata": {
        "colab": {
          "base_uri": "https://localhost:8080/"
        },
        "id": "eFh4U0aU1u10",
        "outputId": "af2cd388-967f-4a90-88e7-3972bd404a83"
      },
      "source": [
        "c"
      ],
      "execution_count": null,
      "outputs": [
        {
          "output_type": "execute_result",
          "data": {
            "text/plain": [
              "array([ 0.        ,  0.76923077,  1.53846154,  2.30769231,  3.07692308,\n",
              "        3.84615385,  4.61538462,  5.38461538,  6.15384615,  6.92307692,\n",
              "        7.69230769,  8.46153846,  9.23076923, 10.        ])"
            ]
          },
          "metadata": {},
          "execution_count": 61
        }
      ]
    },
    {
      "cell_type": "code",
      "metadata": {
        "id": "aAVw6HCL1vPW"
      },
      "source": [
        "c[b==1]=3"
      ],
      "execution_count": null,
      "outputs": []
    },
    {
      "cell_type": "code",
      "metadata": {
        "colab": {
          "base_uri": "https://localhost:8080/"
        },
        "id": "sgz2f4lf11-O",
        "outputId": "6e216772-bb88-43e2-fbb6-58719a9327fd"
      },
      "source": [
        "c"
      ],
      "execution_count": null,
      "outputs": [
        {
          "output_type": "execute_result",
          "data": {
            "text/plain": [
              "array([ 3.        ,  3.        ,  3.        ,  3.        ,  3.        ,\n",
              "        3.84615385,  4.61538462,  5.38461538,  6.15384615,  6.92307692,\n",
              "        7.69230769,  8.46153846,  9.23076923, 10.        ])"
            ]
          },
          "metadata": {},
          "execution_count": 63
        }
      ]
    },
    {
      "cell_type": "code",
      "metadata": {
        "id": "Di350C2n12zy"
      },
      "source": [
        "y = np.sin(np.linspace(0,4*np.pi, 9))"
      ],
      "execution_count": null,
      "outputs": []
    },
    {
      "cell_type": "code",
      "metadata": {
        "colab": {
          "base_uri": "https://localhost:8080/"
        },
        "id": "wSiMcoMV2Kq2",
        "outputId": "51079356-c841-44f5-d496-363b50e10d54"
      },
      "source": [
        "y"
      ],
      "execution_count": null,
      "outputs": [
        {
          "output_type": "execute_result",
          "data": {
            "text/plain": [
              "array([ 0.0000000e+00,  1.0000000e+00,  1.2246468e-16, -1.0000000e+00,\n",
              "       -2.4492936e-16,  1.0000000e+00,  3.6739404e-16, -1.0000000e+00,\n",
              "       -4.8985872e-16])"
            ]
          },
          "metadata": {},
          "execution_count": 65
        }
      ]
    },
    {
      "cell_type": "code",
      "metadata": {
        "id": "GxGjT01c2LGA"
      },
      "source": [
        "y[np.abs(y)<1.0e-15]=0"
      ],
      "execution_count": null,
      "outputs": []
    },
    {
      "cell_type": "code",
      "metadata": {
        "id": "2ALbKyhK2Yr5",
        "colab": {
          "base_uri": "https://localhost:8080/"
        },
        "outputId": "0839ecd6-8b90-4f59-a2f5-cf0ef4bca53d"
      },
      "source": [
        "y"
      ],
      "execution_count": null,
      "outputs": [
        {
          "output_type": "execute_result",
          "data": {
            "text/plain": [
              "array([ 0.,  1.,  0., -1.,  0.,  1.,  0., -1.,  0.])"
            ]
          },
          "metadata": {},
          "execution_count": 67
        }
      ]
    },
    {
      "cell_type": "code",
      "metadata": {
        "id": "Oue8eMiU2ZSt"
      },
      "source": [
        ""
      ],
      "execution_count": null,
      "outputs": []
    }
  ]
}